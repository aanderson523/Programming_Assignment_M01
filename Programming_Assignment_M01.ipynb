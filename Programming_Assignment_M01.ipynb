{
 "cells": [
  {
   "cell_type": "code",
   "execution_count": 32,
   "id": "b13a552d",
   "metadata": {},
   "outputs": [
    {
     "name": "stdout",
     "output_type": "stream",
     "text": [
      "3600\n",
      "86400\n",
      "24.0\n",
      "24.0\n"
     ]
    }
   ],
   "source": [
    "seconds_per_min = 60\n",
    "\n",
    "mins_per_hour = 60\n",
    "\n",
    "days = 24\n",
    "\n",
    "seconds_per_hour = mins_per_hour * seconds_per_min\n",
    "print(seconds_per_hour)\n",
    "\n",
    "seconds_per_day = seconds_per_hour * days\n",
    "print(seconds_per_day)\n",
    "\n",
    "seconds_per_hour = seconds_per_day / seconds_per_hour\n",
    "print(seconds_per_hour)\n",
    "\n",
    "seconds_per_day = seconds_per_hour // seconds_per_day\n",
    "print(seconds_per_hour)\n",
    "\n",
    "\n"
   ]
  }
 ],
 "metadata": {
  "kernelspec": {
   "display_name": "Python 3 (ipykernel)",
   "language": "python",
   "name": "python3"
  },
  "language_info": {
   "codemirror_mode": {
    "name": "ipython",
    "version": 3
   },
   "file_extension": ".py",
   "mimetype": "text/x-python",
   "name": "python",
   "nbconvert_exporter": "python",
   "pygments_lexer": "ipython3",
   "version": "3.9.7"
  }
 },
 "nbformat": 4,
 "nbformat_minor": 5
}
